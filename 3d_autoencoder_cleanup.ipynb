{
 "cells": [
  {
   "cell_type": "markdown",
   "metadata": {},
   "source": [
    "# 3D Convolutional autoencoder for voxel data!\n",
    "\n",
    " This code shows the example of a 3D convolution autoencoder applied on ModelNet40 and PSB datasets.\n",
    " It is the natural extension of [./2d_autoencoder.ipynb](Part 1) of this series.\n",
    "\n",
    " These links complement the ones introduced in Part 1:\n",
    " - https://github.com/ajbrock/Generative-and-Discriminative-Voxel-Modeling/tree/master/Generative\n",
    " - https://github.com/AnTao97/PointCloudDatasets/blob/master/dataset.py"
   ]
  },
  {
   "cell_type": "markdown",
   "metadata": {},
   "source": [
    " ## Background\n",
    " This part of the series needs a bit more explaination. So far, there haven't been many attempts to use CNN's for 3D objects. Why? Probably because of the representation that would be required for a vanilla CNN to work without many changes.\n",
    " ### Pixels and Voxels\n",
    " The logical 3D extenstion of a 2D image would be a 3D grid, because an image is essentially a 2D grid with each cell representing a pixel. In the same manner 3D cells in a 3D grid are called voxels. In both cases, pixels and voxels are somewhat abstract containers that hold values. We typically think pixels strictly contain only color values but they can hold much more information. Opacity is an intuitive example, but we could even save meta-data in there. That was just for the intuition. Voxels are pretty common within neuroscience and obviously game technology.\n",
    " ### Voxels and Convolutions\n",
    " After this description it might be trivial, but we can extend the intuition about convolutions easily onto the next dimension. While we convolve for with a restricted set of 2D filters over images, we do the same with 3D objects. This time, we only imagine cubes instead of squares. In fact, many of you who have already used CNN's know, that this is already common practice, as we treat colors often as that third dimension. This flexibility ties back to the idea that these cells are merely containers and the dimensions can represent anything.\n",
    " ### So far so good... But what's the issue with those?\n",
    " Well, neither am I well acquainted with Game-Technology nor do I have a background in Computer Graphics. However, from what I understand, there are about X reasons:\n",
    " - First, voxel data is exponentially larger than pixel data, given the added dimension. Meaning, that you now need to deal with more data and all of it. If you just care about simple singular 3D models, most of the volume might be empty.\n",
    " - Second, depending on your resolution (which directly affects the data volume), things can become quite minecrafty.\n",
    " - Third, there are alternatives: Point clouds and polygons. Both are vector-based and the ladder even maintains structure.\n",
    " ### Why still use voxels then?\n",
    " They obviously also have advantages. They maintain structure, they are easy to process in computer graphics, they are great for procedural generation. Some of the algorythms for images like JPEG are easy to extend.\n",
    " ### Links\n",
    " For more about these matters checkout following materials:\n",
    " - [https://medium.com/@EightyLevel/how-voxels-became-the-next-big-thing-4eb9665cd13a](An explanation for voxels imminent comeback in Gaming. May be a bit difficult to follow.)\n",
    " - [https://www.quora.com/What-are-the-pros-and-cons-of-using-voxels-instead-of-polygons](Best explanation that I found on this topic. Also videogame centric.)"
   ]
  },
  {
   "cell_type": "code",
   "execution_count": 1,
   "metadata": {},
   "outputs": [],
   "source": [
    "from datetime import datetime\n",
    "from enum import auto\n",
    "import functools\n",
    "import io\n",
    "from pyntcloud.structures.voxelgrid import VoxelGrid\n",
    "import tensorflow as tf\n",
    "import pickle\n",
    "import pyvista as pv\n",
    "from pyntcloud import PyntCloud\n",
    "from tensorflow.python.keras.backend import dtype\n",
    "from tensorflow.python.keras.engine.base_layer import Layer\n",
    "from tqdm import tqdm\n",
    "import pandas as pd\n",
    "import glob\n",
    "import random\n",
    "import numpy as np\n",
    "import tensorflow.keras.layers as layers\n",
    "import tensorflow.keras.regularizers as reg\n",
    "import tensorflow.keras.optimizers as opt\n",
    "from tensorflow.keras.models import Model\n",
    "from tensorflow.keras import backend as K\n",
    "import matplotlib.pyplot as plt\n",
    "from tensorflow.keras.datasets import mnist\n",
    "from sklearn.model_selection import train_test_split\n",
    "import pathlib\n",
    "from matplotlib.backends.backend_agg import FigureCanvasAgg\n",
    "\n",
    "gpus = tf.config.experimental.list_physical_devices('GPU')\n",
    "# tf.config.run_functions_eagerly(True)\n",
    "\n",
    "if gpus:\n",
    "    try:\n",
    "        for gpu in gpus:\n",
    "            tf.config.experimental.set_memory_growth(gpu, True)\n",
    "    except RuntimeError as e:\n",
    "        print(e)"
   ]
  },
  {
   "cell_type": "markdown",
   "metadata": {},
   "source": [
    " I've defined a couple of functions that will be used below.\n",
    " Most of them only deal with plotting"
   ]
  },
  {
   "cell_type": "code",
   "execution_count": 8,
   "metadata": {},
   "outputs": [],
   "source": [
    "def compose(f, g):\n",
    "    return lambda arg: f(g(arg))\n",
    "\n",
    "\n",
    "def retrieve_voxel_data(cloud, n=8):\n",
    "    voxelgrid_id = cloud.add_structure(\"voxelgrid\", n_x=n, n_y=n, n_z=n)\n",
    "    voxelgrid = cloud.structures[voxelgrid_id]\n",
    "    vol = np.array(voxelgrid.get_feature_vector(mode=\"binary\"), dtype=np.uint16)\n",
    "    return vol, voxelgrid\n",
    "\n",
    "\n",
    "def plot_binary_pointcound(vertex_list):\n",
    "    vertices = np.argwhere(vertex_list)\n",
    "    tcloud = PyntCloud(pd.DataFrame(vertices, columns=\"x y z\".split()))\n",
    "    tcloud.plot(mesh=True, width=400, height=400, backend=\"threejs\")\n",
    "\n",
    "\n",
    "def generate_img_of_decodings(encodings, decodings, n=5, thresh=.8):\n",
    "    rows = 2\n",
    "    fig = plt.figure(figsize=(8, 5))\n",
    "\n",
    "    for i in range(0, n):\n",
    "        cnt = i + 1\n",
    "        ax = fig.add_subplot(rows, n, cnt, projection='3d')\n",
    "        elem1 = np.argwhere(encodings[i])\n",
    "        ax.scatter(elem1[:, 0], elem1[:, 1], elem1[:, 2], cmap=\"Greys_r\")\n",
    "        # encoding_strings = \"\\n\".join([f\"{feature:.2f}\" for feature in z[i]])\n",
    "        ax = fig.add_subplot(rows, n, cnt + 1 * n, projection='3d')\n",
    "        elem2 = np.argwhere(decodings[i] >= thresh)\n",
    "        ax.scatter(elem2[:, 0], elem2[:, 1], elem2[:, 2], cmap=\"Greys_r\")\n",
    "\n",
    "    return fig\n",
    "\n",
    "\n",
    "def generate_img_of_decodings_expanded(encodings, decodings, thresholds=[.9, .95, .99, .999, 1]):\n",
    "    rows = 1\n",
    "    fig = plt.figure(figsize=(25, 5))\n",
    "    n = len(thresholds) + 1\n",
    "    encoding_res = len(encodings[0])\n",
    "    ax = fig.add_subplot(rows, n, 1, projection='3d')\n",
    "    elem1 = np.argwhere(encodings[0])\n",
    "    ax.set_title(\"Original\")\n",
    "    ax.scatter(elem1[:, 0], elem1[:, 1], elem1[:, 2], cmap=\"Greys_r\")\n",
    "    for i, tresh in enumerate(thresholds):\n",
    "        cnt = i + 1\n",
    "        ax = fig.add_subplot(rows, n, cnt + 1, projection='3d')\n",
    "        ax.set_title(f\"> {tresh:05.5f}\")\n",
    "        ax.set_xlim(0, encoding_res)\n",
    "        ax.set_ylim(0, encoding_res)\n",
    "        ax.set_zlim(0, encoding_res)\n",
    "        mask = np.where(decodings[0] >= tresh, 1, np.zeros_like(decodings[0]))\n",
    "        masked_elem = mask * decodings[0]\n",
    "        elem2 = np.argwhere(masked_elem)\n",
    "        ax.scatter(elem2[:, 0], elem2[:, 1], elem2[:, 2], cmap=\"Greys_r\")\n",
    "\n",
    "    return fig\n",
    "\n",
    "\n",
    "def plot_pointcound(pynt_cloud_object, n=32):\n",
    "    vol, example_voxelgrid = retrieve_voxel_data(pynt_cloud_object, n)\n",
    "    return example_voxelgrid.plot(d=3, mode=\"binary\", cmap=\"hsv\", width=400, height=400)\n",
    "\n",
    "def plot_pointcound_matplotlib(pynt_cloud_object, n=32):    \n",
    "    vol, example_voxelgrid = retrieve_voxel_data(pynt_cloud_object, n)\n",
    "    fig = plt.figure()\n",
    "    ax = fig.add_subplot(111, projection='3d')  \n",
    "    ax.voxels(vol)  \n",
    "    return plt.show()\n",
    "\n",
    "\n"
   ]
  },
  {
   "cell_type": "code",
   "execution_count": 9,
   "metadata": {},
   "outputs": [
    {
     "data": {
      "image/png": "[encoded data removed]",
      "text/plain": [
       "<Figure size 432x288 with 1 Axes>"
      ]
     },
     "metadata": {
      "needs_background": "light"
     },
     "output_type": "display_data"
    }
   ],
   "source": [
    "plot_pointcound_matplotlib(point_cloud_dataset_collected[4], 32)"
   ]
  },
  {
   "cell_type": "markdown",
   "metadata": {},
   "source": [
    " ## Data preprocessing\n",
    " Because I only have polygon meshes of the data, I decided to opt for a library to convert those to voxel representations.\n",
    " The library is called [https://github.com/daavoo/pyntcloud](pyntcloud)."
   ]
  },
  {
   "cell_type": "code",
   "execution_count": 3,
   "metadata": {},
   "outputs": [],
   "source": [
    "path_to_dataset = pathlib.Path(\"data/dataset.pkl\")\n",
    "point_cloud_dataset_collected = None\n",
    "num_meshes = None\n",
    "if path_to_dataset.exists():\n",
    "    point_cloud_dataset_collected = pickle.load(io.open(path_to_dataset, \"rb\"))\n",
    "    num_meshes = len(point_cloud_dataset_collected)\n",
    "\n",
    "if not path_to_dataset.exists():\n",
    "    data_files = list(glob.glob(str(\"data/**/*.ply\"), recursive=True))\n",
    "    num_meshes = len(data_files)\n",
    "    point_cloud_dataset_generator = (PyntCloud.from_file(mesh_file) for mesh_file in tqdm(data_files, total=num_meshes))\n",
    "    point_cloud_dataset_collected = list(point_cloud_dataset_generator)\n",
    "    pickle.dump(file=io.open(path_to_dataset, \"wb\"), obj=point_cloud_dataset_collected)\n",
    "    print(f\"Loaded point clouds for {num_meshes} meshes\")"
   ]
  },
  {
   "cell_type": "markdown",
   "metadata": {},
   "source": [
    " Let's see what we got. I used 32 as a default cell count in all dimensions.\n",
    " 32 is just an arbitrary number I chose. Obviously, the more the more fine grained the images but the more data to process."
   ]
  },
  {
   "cell_type": "code",
   "execution_count": 6,
   "metadata": {},
   "outputs": [],
   "source": [
    "plot_pointcound(point_cloud_dataset_collected[4], 32)"
   ]
  },
  {
   "cell_type": "markdown",
   "metadata": {},
   "source": [
    " Let's check out what we retrieve with a lower resolution"
   ]
  },
  {
   "cell_type": "code",
   "execution_count": 16,
   "metadata": {},
   "outputs": [
    {
     "data": {
      "text/html": [
       "\n",
       "        <iframe\n",
       "            width=\"400\"\n",
       "            height=\"400\"\n",
       "            src=\"plotVG.html\"\n",
       "            frameborder=\"0\"\n",
       "            allowfullscreen\n",
       "            \n",
       "        ></iframe>\n",
       "        "
      ],
      "text/plain": [
       "<IPython.lib.display.IFrame at 0x1e51dcbe340>"
      ]
     },
     "execution_count": 16,
     "metadata": {},
     "output_type": "execute_result"
    }
   ],
   "source": [
    "plot_pointcound(point_cloud_dataset_collected[4], 8)"
   ]
  },
  {
   "cell_type": "markdown",
   "metadata": {},
   "source": [
    " Now with a higher one"
   ]
  },
  {
   "cell_type": "code",
   "execution_count": 17,
   "metadata": {},
   "outputs": [
    {
     "data": {
      "text/html": [
       "\n",
       "        <iframe\n",
       "            width=\"400\"\n",
       "            height=\"400\"\n",
       "            src=\"plotVG.html\"\n",
       "            frameborder=\"0\"\n",
       "            allowfullscreen\n",
       "            \n",
       "        ></iframe>\n",
       "        "
      ],
      "text/plain": [
       "<IPython.lib.display.IFrame at 0x1e526d048b0>"
      ]
     },
     "execution_count": 17,
     "metadata": {},
     "output_type": "execute_result"
    }
   ],
   "source": [
    "plot_pointcound(point_cloud_dataset_collected[4], 64)"
   ]
  }
 ],
 "metadata": {
  "kernelspec": {
   "display_name": "mmr",
   "language": "python",
   "name": "python3"
  },
  "language_info": {
   "codemirror_mode": {
    "name": "ipython",
    "version": 3
   },
   "file_extension": ".py",
   "mimetype": "text/x-python",
   "name": "python",
   "nbconvert_exporter": "python",
   "pygments_lexer": "ipython3",
   "version": "3.8.5"
  }
 },
 "nbformat": 4,
 "nbformat_minor": 2
}
